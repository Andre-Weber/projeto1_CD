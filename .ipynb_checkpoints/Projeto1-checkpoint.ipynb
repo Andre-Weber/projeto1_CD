{
 "cells": [
  {
   "cell_type": "markdown",
   "metadata": {},
   "source": [
    "## Introdução\n",
    "\n",
    "#### Pergunta a ser respondida:\n",
    "\n",
    "A emissão de CO2 tem alguma relação ao IDH por conta da industrialização? E com a emissão de CO2 há um aumento de necessidades de gastos com medicações (por pessoa em dólares)?\n",
    "\n",
    "&nbsp;\n",
    "\n",
    "\n",
    "A industrialização trouxe muitas novas técnicas e utilização de diversas energias, como o carvão. Revolucionou o modo de viver das pessoas, a organização da cidade e como ela se comporta, girando em torno da tecnologia, como os carros, lucro de alta intensidade e bens de consumo. Muitos países se remoldaram e adaptaram a natureza para agir de acordo com esse novo sistema. Assim, a partir dessa alteração, houve um aumento na produção interna, assim como no IDH.\n",
    "\n",
    "\n",
    "Porém, além da mudança comportamental em torno da modernização, houveram outras consequências além do esperado, uma delas foi a emissão desenfreada de CO2, um gás que em grandes quantidades é nocivo para os seres vivos, podendo ser um grande contribuidor para o efeito estufa, asfixia e intoxicação. Assim, me levou a crer que com essa consequência, há uma possibilidade no aumento de gastos com saúde em um país para remediar os males causados pela substância."
   ]
  },
  {
   "cell_type": "code",
   "execution_count": 153,
   "metadata": {},
   "outputs": [],
   "source": [
    "import pandas as pd\n",
    "import numpy as np\n",
    "import math as math\n",
    "from scipy import stats\n",
    "import matplotlib.pyplot as plt"
   ]
  },
  {
   "cell_type": "code",
   "execution_count": 154,
   "metadata": {},
   "outputs": [],
   "source": [
    "def dispersao_com_reta(dados, variavel_x, variavel_y):\n",
    "    dados_X = dados[variavel_x]\n",
    "    dados_Y = dados[variavel_y]\n",
    "    \n",
    "    # Calcula os coeficientes da reta de ajuste.\n",
    "    cov = dados_X.cov(dados_Y)\n",
    "\n",
    "    var_X = dados_X.var()\n",
    "    var_Y = dados_Y.var()\n",
    "\n",
    "    mX = dados_X.mean()\n",
    "    mY = dados_Y.mean()\n",
    "    \n",
    "    a = cov / var_X\n",
    "    b = mY - a*mX\n",
    "\n",
    "    # Desenha o gráfico de dispersão e a reta de ajuste.\n",
    "    min_X = dados_X.min()\n",
    "    max_X = dados_X.max()\n",
    "\n",
    "    dados.plot.scatter(x=variavel_x, y=variavel_y)\n",
    "    plt.plot((min_X, max_X), (a*min_X + b, a*max_X + b), color='red')\n",
    "\n",
    "    plt.title('{0} versus {1}'.format(variavel_x, variavel_y))\n",
    "    plt.xlabel(variavel_x)\n",
    "    plt.ylabel(variavel_y)\n",
    "    \n",
    "    # Retorna os coeficientes de ajuste da reta.\n",
    "    return a, b"
   ]
  },
  {
   "cell_type": "markdown",
   "metadata": {},
   "source": [
    "Read de todas as tabelas e renomear as colunas."
   ]
  },
  {
   "cell_type": "code",
   "execution_count": 155,
   "metadata": {},
   "outputs": [],
   "source": [
    "co2 = pd.read_excel('co2_emissions_tonnes_per_person.xlsx')\n",
    "co2 = co2.rename(index=str, columns={\"geo\": \"CO2\"})\n",
    "hdi = pd.read_excel('hdi_human_development_index.xlsx')\n",
    "hdi = hdi.rename(index=str, columns={\"geo\": \"HDI\"})\n",
    "health = pd.read_excel('total_health_spending_per_person_us.xlsx')\n",
    "health = health.rename(index=str, columns={\"geo\": \"Health\"})"
   ]
  },
  {
   "cell_type": "markdown",
   "metadata": {},
   "source": [
    "### Filtrar os dados para o ano de 2004"
   ]
  },
  {
   "cell_type": "markdown",
   "metadata": {},
   "source": [
    "Selecionar o ano escolhido (2004)."
   ]
  },
  {
   "cell_type": "code",
   "execution_count": 156,
   "metadata": {},
   "outputs": [],
   "source": [
    "co2_2004 = co2.loc[:, [\"CO2\",2004]]\n",
    "hdi_2004 = hdi.loc[:, [\"HDI\",2004]]\n",
    "health_2004 = health.loc[:, [\"Health\",2004]]"
   ]
  },
  {
   "cell_type": "markdown",
   "metadata": {},
   "source": [
    "Organizar os índices."
   ]
  },
  {
   "cell_type": "code",
   "execution_count": 157,
   "metadata": {},
   "outputs": [],
   "source": [
    "co2_idx_2004 = co2_2004.set_index('CO2')\n",
    "hdi_idx_2004 = hdi_2004.set_index('HDI')\n",
    "health_idx_2004 = health_2004.set_index('Health')"
   ]
  },
  {
   "cell_type": "markdown",
   "metadata": {},
   "source": [
    "Renomear e juntar as colunas e organizar o restante."
   ]
  },
  {
   "cell_type": "code",
   "execution_count": 158,
   "metadata": {},
   "outputs": [
    {
     "data": {
      "text/html": [
       "<div>\n",
       "<style scoped>\n",
       "    .dataframe tbody tr th:only-of-type {\n",
       "        vertical-align: middle;\n",
       "    }\n",
       "\n",
       "    .dataframe tbody tr th {\n",
       "        vertical-align: top;\n",
       "    }\n",
       "\n",
       "    .dataframe thead th {\n",
       "        text-align: right;\n",
       "    }\n",
       "</style>\n",
       "<table border=\"1\" class=\"dataframe\">\n",
       "  <thead>\n",
       "    <tr style=\"text-align: right;\">\n",
       "      <th></th>\n",
       "      <th>2004_co2</th>\n",
       "      <th>2004_hdi</th>\n",
       "      <th>2004_health</th>\n",
       "    </tr>\n",
       "  </thead>\n",
       "  <tbody>\n",
       "    <tr>\n",
       "      <th>Afghanistan</th>\n",
       "      <td>0.0394</td>\n",
       "      <td>0.396</td>\n",
       "      <td>20.70</td>\n",
       "    </tr>\n",
       "    <tr>\n",
       "      <th>Albania</th>\n",
       "      <td>1.3400</td>\n",
       "      <td>0.685</td>\n",
       "      <td>161.00</td>\n",
       "    </tr>\n",
       "    <tr>\n",
       "      <th>Algeria</th>\n",
       "      <td>2.7000</td>\n",
       "      <td>0.680</td>\n",
       "      <td>89.00</td>\n",
       "    </tr>\n",
       "    <tr>\n",
       "      <th>Angola</th>\n",
       "      <td>0.9960</td>\n",
       "      <td>0.426</td>\n",
       "      <td>25.90</td>\n",
       "    </tr>\n",
       "    <tr>\n",
       "      <th>Argentina</th>\n",
       "      <td>4.0700</td>\n",
       "      <td>0.780</td>\n",
       "      <td>332.00</td>\n",
       "    </tr>\n",
       "    <tr>\n",
       "      <th>Armenia</th>\n",
       "      <td>1.2100</td>\n",
       "      <td>0.679</td>\n",
       "      <td>64.10</td>\n",
       "    </tr>\n",
       "    <tr>\n",
       "      <th>Australia</th>\n",
       "      <td>17.2000</td>\n",
       "      <td>0.910</td>\n",
       "      <td>2870.00</td>\n",
       "    </tr>\n",
       "    <tr>\n",
       "      <th>Austria</th>\n",
       "      <td>8.8100</td>\n",
       "      <td>0.848</td>\n",
       "      <td>3680.00</td>\n",
       "    </tr>\n",
       "    <tr>\n",
       "      <th>Azerbaijan</th>\n",
       "      <td>3.8000</td>\n",
       "      <td>0.675</td>\n",
       "      <td>80.90</td>\n",
       "    </tr>\n",
       "    <tr>\n",
       "      <th>Bahamas</th>\n",
       "      <td>5.3400</td>\n",
       "      <td>0.786</td>\n",
       "      <td>1340.00</td>\n",
       "    </tr>\n",
       "    <tr>\n",
       "      <th>Bahrain</th>\n",
       "      <td>21.1000</td>\n",
       "      <td>0.806</td>\n",
       "      <td>661.00</td>\n",
       "    </tr>\n",
       "    <tr>\n",
       "      <th>Barbados</th>\n",
       "      <td>4.7400</td>\n",
       "      <td>0.761</td>\n",
       "      <td>732.00</td>\n",
       "    </tr>\n",
       "    <tr>\n",
       "      <th>Belarus</th>\n",
       "      <td>6.0100</td>\n",
       "      <td>0.713</td>\n",
       "      <td>154.00</td>\n",
       "    </tr>\n",
       "    <tr>\n",
       "      <th>Belgium</th>\n",
       "      <td>10.6000</td>\n",
       "      <td>0.861</td>\n",
       "      <td>3520.00</td>\n",
       "    </tr>\n",
       "    <tr>\n",
       "      <th>Belize</th>\n",
       "      <td>1.4200</td>\n",
       "      <td>0.695</td>\n",
       "      <td>168.00</td>\n",
       "    </tr>\n",
       "    <tr>\n",
       "      <th>Benin</th>\n",
       "      <td>0.3240</td>\n",
       "      <td>0.430</td>\n",
       "      <td>25.00</td>\n",
       "    </tr>\n",
       "    <tr>\n",
       "      <th>Bolivia</th>\n",
       "      <td>1.2400</td>\n",
       "      <td>0.622</td>\n",
       "      <td>52.10</td>\n",
       "    </tr>\n",
       "    <tr>\n",
       "      <th>Botswana</th>\n",
       "      <td>2.1300</td>\n",
       "      <td>0.593</td>\n",
       "      <td>452.00</td>\n",
       "    </tr>\n",
       "    <tr>\n",
       "      <th>Brazil</th>\n",
       "      <td>1.8300</td>\n",
       "      <td>0.694</td>\n",
       "      <td>257.00</td>\n",
       "    </tr>\n",
       "    <tr>\n",
       "      <th>Brunei</th>\n",
       "      <td>13.9000</td>\n",
       "      <td>0.834</td>\n",
       "      <td>667.00</td>\n",
       "    </tr>\n",
       "    <tr>\n",
       "      <th>Bulgaria</th>\n",
       "      <td>6.0400</td>\n",
       "      <td>0.745</td>\n",
       "      <td>238.00</td>\n",
       "    </tr>\n",
       "    <tr>\n",
       "      <th>Burundi</th>\n",
       "      <td>0.0276</td>\n",
       "      <td>0.286</td>\n",
       "      <td>9.59</td>\n",
       "    </tr>\n",
       "    <tr>\n",
       "      <th>Cambodia</th>\n",
       "      <td>0.1870</td>\n",
       "      <td>0.470</td>\n",
       "      <td>32.30</td>\n",
       "    </tr>\n",
       "    <tr>\n",
       "      <th>Cameroon</th>\n",
       "      <td>0.2330</td>\n",
       "      <td>0.456</td>\n",
       "      <td>43.40</td>\n",
       "    </tr>\n",
       "    <tr>\n",
       "      <th>Canada</th>\n",
       "      <td>17.3000</td>\n",
       "      <td>0.886</td>\n",
       "      <td>3040.00</td>\n",
       "    </tr>\n",
       "    <tr>\n",
       "      <th>Cape Verde</th>\n",
       "      <td>0.7060</td>\n",
       "      <td>0.582</td>\n",
       "      <td>101.00</td>\n",
       "    </tr>\n",
       "    <tr>\n",
       "      <th>Central African Republic</th>\n",
       "      <td>0.0579</td>\n",
       "      <td>0.319</td>\n",
       "      <td>12.90</td>\n",
       "    </tr>\n",
       "    <tr>\n",
       "      <th>Chad</th>\n",
       "      <td>0.0389</td>\n",
       "      <td>0.306</td>\n",
       "      <td>23.80</td>\n",
       "    </tr>\n",
       "    <tr>\n",
       "      <th>Chile</th>\n",
       "      <td>3.7400</td>\n",
       "      <td>0.790</td>\n",
       "      <td>420.00</td>\n",
       "    </tr>\n",
       "    <tr>\n",
       "      <th>China</th>\n",
       "      <td>3.9800</td>\n",
       "      <td>0.634</td>\n",
       "      <td>70.10</td>\n",
       "    </tr>\n",
       "    <tr>\n",
       "      <th>...</th>\n",
       "      <td>...</td>\n",
       "      <td>...</td>\n",
       "      <td>...</td>\n",
       "    </tr>\n",
       "    <tr>\n",
       "      <th>Spain</th>\n",
       "      <td>7.8300</td>\n",
       "      <td>0.837</td>\n",
       "      <td>2010.00</td>\n",
       "    </tr>\n",
       "    <tr>\n",
       "      <th>Sri Lanka</th>\n",
       "      <td>0.6350</td>\n",
       "      <td>0.712</td>\n",
       "      <td>43.20</td>\n",
       "    </tr>\n",
       "    <tr>\n",
       "      <th>St. Lucia</th>\n",
       "      <td>2.1900</td>\n",
       "      <td>0.689</td>\n",
       "      <td>282.00</td>\n",
       "    </tr>\n",
       "    <tr>\n",
       "      <th>St. Vincent and the Grenadines</th>\n",
       "      <td>2.0300</td>\n",
       "      <td>0.692</td>\n",
       "      <td>179.00</td>\n",
       "    </tr>\n",
       "    <tr>\n",
       "      <th>Sudan</th>\n",
       "      <td>0.3800</td>\n",
       "      <td>0.423</td>\n",
       "      <td>23.70</td>\n",
       "    </tr>\n",
       "    <tr>\n",
       "      <th>Suriname</th>\n",
       "      <td>3.1600</td>\n",
       "      <td>0.672</td>\n",
       "      <td>207.00</td>\n",
       "    </tr>\n",
       "    <tr>\n",
       "      <th>Swaziland</th>\n",
       "      <td>0.9410</td>\n",
       "      <td>0.495</td>\n",
       "      <td>114.00</td>\n",
       "    </tr>\n",
       "    <tr>\n",
       "      <th>Sweden</th>\n",
       "      <td>6.0600</td>\n",
       "      <td>0.890</td>\n",
       "      <td>3660.00</td>\n",
       "    </tr>\n",
       "    <tr>\n",
       "      <th>Switzerland</th>\n",
       "      <td>5.4900</td>\n",
       "      <td>0.899</td>\n",
       "      <td>5500.00</td>\n",
       "    </tr>\n",
       "    <tr>\n",
       "      <th>Syria</th>\n",
       "      <td>2.8700</td>\n",
       "      <td>0.624</td>\n",
       "      <td>60.60</td>\n",
       "    </tr>\n",
       "    <tr>\n",
       "      <th>Tajikistan</th>\n",
       "      <td>0.3820</td>\n",
       "      <td>0.572</td>\n",
       "      <td>14.00</td>\n",
       "    </tr>\n",
       "    <tr>\n",
       "      <th>Tanzania</th>\n",
       "      <td>0.1140</td>\n",
       "      <td>0.432</td>\n",
       "      <td>11.70</td>\n",
       "    </tr>\n",
       "    <tr>\n",
       "      <th>Thailand</th>\n",
       "      <td>3.7400</td>\n",
       "      <td>0.682</td>\n",
       "      <td>85.80</td>\n",
       "    </tr>\n",
       "    <tr>\n",
       "      <th>Timor-Leste</th>\n",
       "      <td>0.1770</td>\n",
       "      <td>0.492</td>\n",
       "      <td>43.30</td>\n",
       "    </tr>\n",
       "    <tr>\n",
       "      <th>Togo</th>\n",
       "      <td>0.2520</td>\n",
       "      <td>0.435</td>\n",
       "      <td>24.80</td>\n",
       "    </tr>\n",
       "    <tr>\n",
       "      <th>Tonga</th>\n",
       "      <td>1.1000</td>\n",
       "      <td>0.694</td>\n",
       "      <td>115.00</td>\n",
       "    </tr>\n",
       "    <tr>\n",
       "      <th>Trinidad and Tobago</th>\n",
       "      <td>25.9000</td>\n",
       "      <td>0.745</td>\n",
       "      <td>491.00</td>\n",
       "    </tr>\n",
       "    <tr>\n",
       "      <th>Tunisia</th>\n",
       "      <td>2.2300</td>\n",
       "      <td>0.683</td>\n",
       "      <td>179.00</td>\n",
       "    </tr>\n",
       "    <tr>\n",
       "      <th>Turkey</th>\n",
       "      <td>3.3600</td>\n",
       "      <td>0.681</td>\n",
       "      <td>310.00</td>\n",
       "    </tr>\n",
       "    <tr>\n",
       "      <th>Uganda</th>\n",
       "      <td>0.0630</td>\n",
       "      <td>0.429</td>\n",
       "      <td>22.90</td>\n",
       "    </tr>\n",
       "    <tr>\n",
       "      <th>Ukraine</th>\n",
       "      <td>7.2700</td>\n",
       "      <td>0.707</td>\n",
       "      <td>90.70</td>\n",
       "    </tr>\n",
       "    <tr>\n",
       "      <th>United Arab Emirates</th>\n",
       "      <td>27.7000</td>\n",
       "      <td>0.818</td>\n",
       "      <td>995.00</td>\n",
       "    </tr>\n",
       "    <tr>\n",
       "      <th>United Kingdom</th>\n",
       "      <td>9.0000</td>\n",
       "      <td>0.886</td>\n",
       "      <td>2940.00</td>\n",
       "    </tr>\n",
       "    <tr>\n",
       "      <th>United States</th>\n",
       "      <td>19.7000</td>\n",
       "      <td>0.895</td>\n",
       "      <td>6330.00</td>\n",
       "    </tr>\n",
       "    <tr>\n",
       "      <th>Uruguay</th>\n",
       "      <td>1.6900</td>\n",
       "      <td>0.753</td>\n",
       "      <td>349.00</td>\n",
       "    </tr>\n",
       "    <tr>\n",
       "      <th>Uzbekistan</th>\n",
       "      <td>4.8200</td>\n",
       "      <td>0.620</td>\n",
       "      <td>25.40</td>\n",
       "    </tr>\n",
       "    <tr>\n",
       "      <th>Venezuela</th>\n",
       "      <td>5.7600</td>\n",
       "      <td>0.700</td>\n",
       "      <td>239.00</td>\n",
       "    </tr>\n",
       "    <tr>\n",
       "      <th>Vietnam</th>\n",
       "      <td>1.0800</td>\n",
       "      <td>0.609</td>\n",
       "      <td>30.60</td>\n",
       "    </tr>\n",
       "    <tr>\n",
       "      <th>Yemen</th>\n",
       "      <td>0.9430</td>\n",
       "      <td>0.470</td>\n",
       "      <td>38.20</td>\n",
       "    </tr>\n",
       "    <tr>\n",
       "      <th>Zambia</th>\n",
       "      <td>0.1830</td>\n",
       "      <td>0.467</td>\n",
       "      <td>32.10</td>\n",
       "    </tr>\n",
       "  </tbody>\n",
       "</table>\n",
       "<p>167 rows × 3 columns</p>\n",
       "</div>"
      ],
      "text/plain": [
       "                                2004_co2  2004_hdi  2004_health\n",
       "Afghanistan                       0.0394     0.396        20.70\n",
       "Albania                           1.3400     0.685       161.00\n",
       "Algeria                           2.7000     0.680        89.00\n",
       "Angola                            0.9960     0.426        25.90\n",
       "Argentina                         4.0700     0.780       332.00\n",
       "Armenia                           1.2100     0.679        64.10\n",
       "Australia                        17.2000     0.910      2870.00\n",
       "Austria                           8.8100     0.848      3680.00\n",
       "Azerbaijan                        3.8000     0.675        80.90\n",
       "Bahamas                           5.3400     0.786      1340.00\n",
       "Bahrain                          21.1000     0.806       661.00\n",
       "Barbados                          4.7400     0.761       732.00\n",
       "Belarus                           6.0100     0.713       154.00\n",
       "Belgium                          10.6000     0.861      3520.00\n",
       "Belize                            1.4200     0.695       168.00\n",
       "Benin                             0.3240     0.430        25.00\n",
       "Bolivia                           1.2400     0.622        52.10\n",
       "Botswana                          2.1300     0.593       452.00\n",
       "Brazil                            1.8300     0.694       257.00\n",
       "Brunei                           13.9000     0.834       667.00\n",
       "Bulgaria                          6.0400     0.745       238.00\n",
       "Burundi                           0.0276     0.286         9.59\n",
       "Cambodia                          0.1870     0.470        32.30\n",
       "Cameroon                          0.2330     0.456        43.40\n",
       "Canada                           17.3000     0.886      3040.00\n",
       "Cape Verde                        0.7060     0.582       101.00\n",
       "Central African Republic          0.0579     0.319        12.90\n",
       "Chad                              0.0389     0.306        23.80\n",
       "Chile                             3.7400     0.790       420.00\n",
       "China                             3.9800     0.634        70.10\n",
       "...                                  ...       ...          ...\n",
       "Spain                             7.8300     0.837      2010.00\n",
       "Sri Lanka                         0.6350     0.712        43.20\n",
       "St. Lucia                         2.1900     0.689       282.00\n",
       "St. Vincent and the Grenadines    2.0300     0.692       179.00\n",
       "Sudan                             0.3800     0.423        23.70\n",
       "Suriname                          3.1600     0.672       207.00\n",
       "Swaziland                         0.9410     0.495       114.00\n",
       "Sweden                            6.0600     0.890      3660.00\n",
       "Switzerland                       5.4900     0.899      5500.00\n",
       "Syria                             2.8700     0.624        60.60\n",
       "Tajikistan                        0.3820     0.572        14.00\n",
       "Tanzania                          0.1140     0.432        11.70\n",
       "Thailand                          3.7400     0.682        85.80\n",
       "Timor-Leste                       0.1770     0.492        43.30\n",
       "Togo                              0.2520     0.435        24.80\n",
       "Tonga                             1.1000     0.694       115.00\n",
       "Trinidad and Tobago              25.9000     0.745       491.00\n",
       "Tunisia                           2.2300     0.683       179.00\n",
       "Turkey                            3.3600     0.681       310.00\n",
       "Uganda                            0.0630     0.429        22.90\n",
       "Ukraine                           7.2700     0.707        90.70\n",
       "United Arab Emirates             27.7000     0.818       995.00\n",
       "United Kingdom                    9.0000     0.886      2940.00\n",
       "United States                    19.7000     0.895      6330.00\n",
       "Uruguay                           1.6900     0.753       349.00\n",
       "Uzbekistan                        4.8200     0.620        25.40\n",
       "Venezuela                         5.7600     0.700       239.00\n",
       "Vietnam                           1.0800     0.609        30.60\n",
       "Yemen                             0.9430     0.470        38.20\n",
       "Zambia                            0.1830     0.467        32.10\n",
       "\n",
       "[167 rows x 3 columns]"
      ]
     },
     "execution_count": 158,
     "metadata": {},
     "output_type": "execute_result"
    }
   ],
   "source": [
    "co2_hdi_2004 = co2_idx_2004.join(hdi_idx_2004, how='inner', lsuffix='_co2', rsuffix='_hdi')\n",
    "co2_hdi_health_2004 = co2_hdi_2004.join(health_idx_2004, how=\"inner\")\n",
    "co2_hdi_health_2004.rename(index=str, columns={\"2004\": \"2004_health\"})\n",
    "co2_hdi_health_2004['2004_health'] = co2_hdi_health_2004.pop(2004)\n",
    "co2_hdi_health_2004 = co2_hdi_health_2004.dropna()\n",
    "co2_hdi_health_2004"
   ]
  },
  {
   "cell_type": "markdown",
   "metadata": {},
   "source": [
    "## Resultados de 2004"
   ]
  },
  {
   "cell_type": "markdown",
   "metadata": {},
   "source": [
    "#### Gráfico do IDH em função da Emissão de CO2 em 2004"
   ]
  },
  {
   "cell_type": "code",
   "execution_count": 159,
   "metadata": {},
   "outputs": [
    {
     "name": "stdout",
     "output_type": "stream",
     "text": [
      "Ajuste linear entre IDH e Emissão de CO2 em 2004:\n",
      "Coeficiente linear: 0.5808585997248534\n",
      "Coeficiente angular: 0.014156048883422543\n",
      "  \n",
      "Gráfico de emissão de CO2 e IDH em 2004\n"
     ]
    },
    {
     "data": {
      "image/png": "[encoded data removed]",
      "text/plain": [
       "<Figure size 432x288 with 1 Axes>"
      ]
     },
     "metadata": {},
     "output_type": "display_data"
    }
   ],
   "source": [
    "\n",
    "a, b = dispersao_com_reta(co2_hdi_health_2004, variavel_y=\"2004_hdi\", variavel_x=\"2004_co2\")\n",
    "print('Ajuste linear entre IDH e Emissão de CO2 em 2004:')\n",
    "print('Coeficiente linear:', b)\n",
    "print('Coeficiente angular:', a)\n",
    "print('  ')\n",
    "print('Gráfico de emissão de CO2 e IDH em 2004')"
   ]
  },
  {
   "cell_type": "markdown",
   "metadata": {},
   "source": [
    "#### Gráfico do IDH em função da Emissão de CO2 em log em 2004"
   ]
  },
  {
   "cell_type": "code",
   "execution_count": 160,
   "metadata": {},
   "outputs": [
    {
     "name": "stdout",
     "output_type": "stream",
     "text": [
      "Ajuste linear entre IDH e Emissão de CO2 em 2004:\n",
      "Coeficiente linear: 0.5960589284045331\n",
      "Coeficiente angular: 0.09003555572925355\n",
      "  \n",
      "Gráfico de emissão de CO2 em log e IDH em 2004\n"
     ]
    },
    {
     "data": {
      "image/png": "[encoded data removed]",
      "text/plain": [
       "<Figure size 432x288 with 1 Axes>"
      ]
     },
     "metadata": {},
     "output_type": "display_data"
    }
   ],
   "source": [
    "co2_hdi_health_2004[\"log_2004_co2\"] = np.log(co2_hdi_health_2004[\"2004_co2\"])\n",
    "a, b = dispersao_com_reta(co2_hdi_health_2004, variavel_y=\"2004_hdi\", variavel_x=\"log_2004_co2\")\n",
    "print('Ajuste linear entre IDH e Emissão de CO2 em 2004:')\n",
    "print('Coeficiente linear:', b)\n",
    "print('Coeficiente angular:', a)\n",
    "print('  ')\n",
    "print('Gráfico de emissão de CO2 em log e IDH em 2004')"
   ]
  },
  {
   "cell_type": "markdown",
   "metadata": {},
   "source": [
    "#### Gráfico do IDH em função de Gasto com saúde em 2004"
   ]
  },
  {
   "cell_type": "code",
   "execution_count": 161,
   "metadata": {},
   "outputs": [
    {
     "name": "stdout",
     "output_type": "stream",
     "text": [
      "Ajuste linear entre IDH e Gasto com saúde em 2004:\n",
      "Coeficiente linear: 0.593161598857181\n",
      "Coeficiente angular: 8.172734334763049e-05\n",
      "  \n",
      "Gráfico Gasto com saúde e IDH em 2004\n"
     ]
    },
    {
     "data": {
      "image/png": "[encoded data removed]",
      "text/plain": [
       "<Figure size 432x288 with 1 Axes>"
      ]
     },
     "metadata": {},
     "output_type": "display_data"
    }
   ],
   "source": [
    "a, b = dispersao_com_reta(co2_hdi_health_2004, variavel_y=\"2004_hdi\", variavel_x=\"2004_health\")\n",
    "print('Ajuste linear entre IDH e Gasto com saúde em 2004:')\n",
    "print('Coeficiente linear:', b)\n",
    "print('Coeficiente angular:', a)\n",
    "print('  ')\n",
    "print('Gráfico Gasto com saúde e IDH em 2004')"
   ]
  },
  {
   "cell_type": "markdown",
   "metadata": {},
   "source": [
    "#### Gráfico do IDH em função de Gasto com saúde em log em 2004"
   ]
  },
  {
   "cell_type": "code",
   "execution_count": 162,
   "metadata": {},
   "outputs": [
    {
     "name": "stdout",
     "output_type": "stream",
     "text": [
      "Ajuste linear entre IDH e Gasto com saúde em 2004:\n",
      "Coeficiente linear: 0.2151550966011665\n",
      "Coeficiente angular: 0.08534268924462507\n",
      "  \n",
      "Gráfico Gasto com saúde em log e IDH em 2004\n"
     ]
    },
    {
     "data": {
      "image/png": "[encoded data removed]",
      "text/plain": [
       "<Figure size 432x288 with 1 Axes>"
      ]
     },
     "metadata": {},
     "output_type": "display_data"
    }
   ],
   "source": [
    "co2_hdi_health_2004[\"log_2004_health\"] = np.log(co2_hdi_health_2004[\"2004_health\"])\n",
    "a, b = dispersao_com_reta(co2_hdi_health_2004, variavel_y=\"2004_hdi\", variavel_x=\"log_2004_health\")\n",
    "print('Ajuste linear entre IDH e Gasto com saúde em 2004:')\n",
    "print('Coeficiente linear:', b)\n",
    "print('Coeficiente angular:', a)\n",
    "print('  ')\n",
    "print('Gráfico Gasto com saúde em log e IDH em 2004')"
   ]
  },
  {
   "cell_type": "markdown",
   "metadata": {},
   "source": [
    "#### Gráfico do Gasto com saúde em função da Emissão de CO2 em 2004"
   ]
  },
  {
   "cell_type": "code",
   "execution_count": 163,
   "metadata": {},
   "outputs": [
    {
     "name": "stdout",
     "output_type": "stream",
     "text": [
      "Ajuste linear entre Emissão de CO2 e Gasto com saúde em 2004:\n",
      "Coeficiente linear: 257.76214225797065\n",
      "Coeficiente angular: 89.80307505001377\n",
      "  \n",
      "Gráfico de emissão de CO2 em log e Gasto com saúde em log em 2004\n"
     ]
    },
    {
     "data": {
      "image/png": "[encoded data removed]",
      "text/plain": [
       "<Figure size 432x288 with 1 Axes>"
      ]
     },
     "metadata": {},
     "output_type": "display_data"
    }
   ],
   "source": [
    "a, b = dispersao_com_reta(co2_hdi_health_2004, variavel_x=\"2004_co2\", variavel_y=\"2004_health\")\n",
    "print('Ajuste linear entre Emissão de CO2 e Gasto com saúde em 2004:')\n",
    "print('Coeficiente linear:', b)\n",
    "print('Coeficiente angular:', a)\n",
    "print('  ')\n",
    "print('Gráfico de emissão de CO2 em log e Gasto com saúde em log em 2004')"
   ]
  },
  {
   "cell_type": "markdown",
   "metadata": {},
   "source": [
    "#### Gráfico do Gasto com saúde em função da Emissão de CO2 em log em 2004"
   ]
  },
  {
   "cell_type": "code",
   "execution_count": 164,
   "metadata": {},
   "outputs": [
    {
     "name": "stdout",
     "output_type": "stream",
     "text": [
      "Ajuste linear entre Emissão de CO2 e Gasto com saúde em 2004:\n",
      "Coeficiente linear: 4.562236245416062\n",
      "Coeficiente angular: 0.8902038910406072\n",
      "  \n",
      "Gráfico de emissão de CO2 em log e Gasto com saúde em log em 2004\n"
     ]
    },
    {
     "data": {
      "image/png": "[encoded data removed]",
      "text/plain": [
       "<Figure size 432x288 with 1 Axes>"
      ]
     },
     "metadata": {},
     "output_type": "display_data"
    }
   ],
   "source": [
    "a, b = dispersao_com_reta(co2_hdi_health_2004, variavel_x=\"log_2004_co2\", variavel_y=\"log_2004_health\")\n",
    "print('Ajuste linear entre Emissão de CO2 e Gasto com saúde em 2004:')\n",
    "print('Coeficiente linear:', b)\n",
    "print('Coeficiente angular:', a)\n",
    "print('  ')\n",
    "print('Gráfico de emissão de CO2 em log e Gasto com saúde em log em 2004')"
   ]
  },
  {
   "cell_type": "markdown",
   "metadata": {},
   "source": [
    "##### Correlação entre todas variáveis em 2004"
   ]
  },
  {
   "cell_type": "code",
   "execution_count": 165,
   "metadata": {},
   "outputs": [
    {
     "data": {
      "text/html": [
       "<div>\n",
       "<style scoped>\n",
       "    .dataframe tbody tr th:only-of-type {\n",
       "        vertical-align: middle;\n",
       "    }\n",
       "\n",
       "    .dataframe tbody tr th {\n",
       "        vertical-align: top;\n",
       "    }\n",
       "\n",
       "    .dataframe thead th {\n",
       "        text-align: right;\n",
       "    }\n",
       "</style>\n",
       "<table border=\"1\" class=\"dataframe\">\n",
       "  <thead>\n",
       "    <tr style=\"text-align: right;\">\n",
       "      <th></th>\n",
       "      <th>2004_co2</th>\n",
       "      <th>2004_hdi</th>\n",
       "      <th>2004_health</th>\n",
       "      <th>log_2004_co2</th>\n",
       "      <th>log_2004_health</th>\n",
       "    </tr>\n",
       "  </thead>\n",
       "  <tbody>\n",
       "    <tr>\n",
       "      <th>2004_co2</th>\n",
       "      <td>1.000000</td>\n",
       "      <td>0.585779</td>\n",
       "      <td>0.482227</td>\n",
       "      <td>0.711197</td>\n",
       "      <td>0.614735</td>\n",
       "    </tr>\n",
       "    <tr>\n",
       "      <th>2004_hdi</th>\n",
       "      <td>0.585779</td>\n",
       "      <td>1.000000</td>\n",
       "      <td>0.629795</td>\n",
       "      <td>0.903060</td>\n",
       "      <td>0.908474</td>\n",
       "    </tr>\n",
       "    <tr>\n",
       "      <th>2004_health</th>\n",
       "      <td>0.482227</td>\n",
       "      <td>0.629795</td>\n",
       "      <td>1.000000</td>\n",
       "      <td>0.509459</td>\n",
       "      <td>0.779093</td>\n",
       "    </tr>\n",
       "    <tr>\n",
       "      <th>log_2004_co2</th>\n",
       "      <td>0.711197</td>\n",
       "      <td>0.903060</td>\n",
       "      <td>0.509459</td>\n",
       "      <td>1.000000</td>\n",
       "      <td>0.838776</td>\n",
       "    </tr>\n",
       "    <tr>\n",
       "      <th>log_2004_health</th>\n",
       "      <td>0.614735</td>\n",
       "      <td>0.908474</td>\n",
       "      <td>0.779093</td>\n",
       "      <td>0.838776</td>\n",
       "      <td>1.000000</td>\n",
       "    </tr>\n",
       "  </tbody>\n",
       "</table>\n",
       "</div>"
      ],
      "text/plain": [
       "                 2004_co2  2004_hdi  2004_health  log_2004_co2  \\\n",
       "2004_co2         1.000000  0.585779     0.482227      0.711197   \n",
       "2004_hdi         0.585779  1.000000     0.629795      0.903060   \n",
       "2004_health      0.482227  0.629795     1.000000      0.509459   \n",
       "log_2004_co2     0.711197  0.903060     0.509459      1.000000   \n",
       "log_2004_health  0.614735  0.908474     0.779093      0.838776   \n",
       "\n",
       "                 log_2004_health  \n",
       "2004_co2                0.614735  \n",
       "2004_hdi                0.908474  \n",
       "2004_health             0.779093  \n",
       "log_2004_co2            0.838776  \n",
       "log_2004_health         1.000000  "
      ]
     },
     "execution_count": 165,
     "metadata": {},
     "output_type": "execute_result"
    }
   ],
   "source": [
    "co2_hdi_health_2004.corr()"
   ]
  },
  {
   "cell_type": "markdown",
   "metadata": {},
   "source": [
    "##### Correlação entre IDH e Emissão de CO2 em 2004"
   ]
  },
  {
   "cell_type": "code",
   "execution_count": 166,
   "metadata": {},
   "outputs": [
    {
     "data": {
      "text/html": [
       "<div>\n",
       "<style scoped>\n",
       "    .dataframe tbody tr th:only-of-type {\n",
       "        vertical-align: middle;\n",
       "    }\n",
       "\n",
       "    .dataframe tbody tr th {\n",
       "        vertical-align: top;\n",
       "    }\n",
       "\n",
       "    .dataframe thead th {\n",
       "        text-align: right;\n",
       "    }\n",
       "</style>\n",
       "<table border=\"1\" class=\"dataframe\">\n",
       "  <thead>\n",
       "    <tr style=\"text-align: right;\">\n",
       "      <th></th>\n",
       "      <th>2004_hdi</th>\n",
       "      <th>log_2004_co2</th>\n",
       "    </tr>\n",
       "  </thead>\n",
       "  <tbody>\n",
       "    <tr>\n",
       "      <th>2004_hdi</th>\n",
       "      <td>1.00000</td>\n",
       "      <td>0.90306</td>\n",
       "    </tr>\n",
       "    <tr>\n",
       "      <th>log_2004_co2</th>\n",
       "      <td>0.90306</td>\n",
       "      <td>1.00000</td>\n",
       "    </tr>\n",
       "  </tbody>\n",
       "</table>\n",
       "</div>"
      ],
      "text/plain": [
       "              2004_hdi  log_2004_co2\n",
       "2004_hdi       1.00000       0.90306\n",
       "log_2004_co2   0.90306       1.00000"
      ]
     },
     "execution_count": 166,
     "metadata": {},
     "output_type": "execute_result"
    }
   ],
   "source": [
    "co2_hdi_health_2004.loc[:, [\"2004_hdi\", \"log_2004_co2\"]].corr()"
   ]
  },
  {
   "cell_type": "markdown",
   "metadata": {},
   "source": [
    "##### Correlação entre IDH e Gasto com saúde em 2004"
   ]
  },
  {
   "cell_type": "code",
   "execution_count": 167,
   "metadata": {},
   "outputs": [
    {
     "data": {
      "text/html": [
       "<div>\n",
       "<style scoped>\n",
       "    .dataframe tbody tr th:only-of-type {\n",
       "        vertical-align: middle;\n",
       "    }\n",
       "\n",
       "    .dataframe tbody tr th {\n",
       "        vertical-align: top;\n",
       "    }\n",
       "\n",
       "    .dataframe thead th {\n",
       "        text-align: right;\n",
       "    }\n",
       "</style>\n",
       "<table border=\"1\" class=\"dataframe\">\n",
       "  <thead>\n",
       "    <tr style=\"text-align: right;\">\n",
       "      <th></th>\n",
       "      <th>2004_hdi</th>\n",
       "      <th>log_2004_health</th>\n",
       "    </tr>\n",
       "  </thead>\n",
       "  <tbody>\n",
       "    <tr>\n",
       "      <th>2004_hdi</th>\n",
       "      <td>1.000000</td>\n",
       "      <td>0.908474</td>\n",
       "    </tr>\n",
       "    <tr>\n",
       "      <th>log_2004_health</th>\n",
       "      <td>0.908474</td>\n",
       "      <td>1.000000</td>\n",
       "    </tr>\n",
       "  </tbody>\n",
       "</table>\n",
       "</div>"
      ],
      "text/plain": [
       "                 2004_hdi  log_2004_health\n",
       "2004_hdi         1.000000         0.908474\n",
       "log_2004_health  0.908474         1.000000"
      ]
     },
     "execution_count": 167,
     "metadata": {},
     "output_type": "execute_result"
    }
   ],
   "source": [
    "co2_hdi_health_2004.loc[:, [\"2004_hdi\", \"log_2004_health\"]].corr()"
   ]
  },
  {
   "cell_type": "markdown",
   "metadata": {},
   "source": [
    "##### Correlação entre Emissão de CO2 e Gasto com saúde em 2004"
   ]
  },
  {
   "cell_type": "code",
   "execution_count": 168,
   "metadata": {},
   "outputs": [
    {
     "data": {
      "text/html": [
       "<div>\n",
       "<style scoped>\n",
       "    .dataframe tbody tr th:only-of-type {\n",
       "        vertical-align: middle;\n",
       "    }\n",
       "\n",
       "    .dataframe tbody tr th {\n",
       "        vertical-align: top;\n",
       "    }\n",
       "\n",
       "    .dataframe thead th {\n",
       "        text-align: right;\n",
       "    }\n",
       "</style>\n",
       "<table border=\"1\" class=\"dataframe\">\n",
       "  <thead>\n",
       "    <tr style=\"text-align: right;\">\n",
       "      <th></th>\n",
       "      <th>log_2004_co2</th>\n",
       "      <th>log_2004_health</th>\n",
       "    </tr>\n",
       "  </thead>\n",
       "  <tbody>\n",
       "    <tr>\n",
       "      <th>log_2004_co2</th>\n",
       "      <td>1.000000</td>\n",
       "      <td>0.838776</td>\n",
       "    </tr>\n",
       "    <tr>\n",
       "      <th>log_2004_health</th>\n",
       "      <td>0.838776</td>\n",
       "      <td>1.000000</td>\n",
       "    </tr>\n",
       "  </tbody>\n",
       "</table>\n",
       "</div>"
      ],
      "text/plain": [
       "                 log_2004_co2  log_2004_health\n",
       "log_2004_co2         1.000000         0.838776\n",
       "log_2004_health      0.838776         1.000000"
      ]
     },
     "execution_count": 168,
     "metadata": {},
     "output_type": "execute_result"
    }
   ],
   "source": [
    "co2_hdi_health_2004.loc[:, [\"log_2004_co2\", \"log_2004_health\"]].corr()"
   ]
  },
  {
   "cell_type": "markdown",
   "metadata": {},
   "source": [
    "### Filtrar os dados para o ano de 2010"
   ]
  },
  {
   "cell_type": "markdown",
   "metadata": {},
   "source": [
    "Selecionar o ano escolhido (2010)."
   ]
  },
  {
   "cell_type": "code",
   "execution_count": 169,
   "metadata": {},
   "outputs": [],
   "source": [
    "co2_2010 = co2.loc[:, [\"CO2\",2010]]\n",
    "hdi_2010 = hdi.loc[:, [\"HDI\",2010]]\n",
    "health_2010 = health.loc[:, [\"Health\",2010]]"
   ]
  },
  {
   "cell_type": "markdown",
   "metadata": {},
   "source": [
    "Organizar os índices."
   ]
  },
  {
   "cell_type": "code",
   "execution_count": 170,
   "metadata": {},
   "outputs": [],
   "source": [
    "co2_idx = co2_2010.set_index('CO2')\n",
    "hdi_idx = hdi_2010.set_index('HDI')\n",
    "health_idx = health_2010.set_index('Health')"
   ]
  },
  {
   "cell_type": "markdown",
   "metadata": {},
   "source": [
    "Juntar as tabelas e organizar o restante."
   ]
  },
  {
   "cell_type": "code",
   "execution_count": 171,
   "metadata": {},
   "outputs": [
    {
     "data": {
      "text/html": [
       "<div>\n",
       "<style scoped>\n",
       "    .dataframe tbody tr th:only-of-type {\n",
       "        vertical-align: middle;\n",
       "    }\n",
       "\n",
       "    .dataframe tbody tr th {\n",
       "        vertical-align: top;\n",
       "    }\n",
       "\n",
       "    .dataframe thead th {\n",
       "        text-align: right;\n",
       "    }\n",
       "</style>\n",
       "<table border=\"1\" class=\"dataframe\">\n",
       "  <thead>\n",
       "    <tr style=\"text-align: right;\">\n",
       "      <th></th>\n",
       "      <th>2010_co2</th>\n",
       "      <th>2010_hdi</th>\n",
       "      <th>2010_health</th>\n",
       "    </tr>\n",
       "  </thead>\n",
       "  <tbody>\n",
       "    <tr>\n",
       "      <th>Afghanistan</th>\n",
       "      <td>0.2940</td>\n",
       "      <td>0.454</td>\n",
       "      <td>37.7</td>\n",
       "    </tr>\n",
       "    <tr>\n",
       "      <th>Albania</th>\n",
       "      <td>1.5600</td>\n",
       "      <td>0.738</td>\n",
       "      <td>241.0</td>\n",
       "    </tr>\n",
       "    <tr>\n",
       "      <th>Algeria</th>\n",
       "      <td>3.3000</td>\n",
       "      <td>0.724</td>\n",
       "      <td>178.0</td>\n",
       "    </tr>\n",
       "    <tr>\n",
       "      <th>Andorra</th>\n",
       "      <td>6.1200</td>\n",
       "      <td>0.819</td>\n",
       "      <td>3100.0</td>\n",
       "    </tr>\n",
       "    <tr>\n",
       "      <th>Angola</th>\n",
       "      <td>1.2400</td>\n",
       "      <td>0.495</td>\n",
       "      <td>123.0</td>\n",
       "    </tr>\n",
       "    <tr>\n",
       "      <th>Antigua and Barbuda</th>\n",
       "      <td>5.5400</td>\n",
       "      <td>0.782</td>\n",
       "      <td>690.0</td>\n",
       "    </tr>\n",
       "    <tr>\n",
       "      <th>Argentina</th>\n",
       "      <td>4.5600</td>\n",
       "      <td>0.816</td>\n",
       "      <td>742.0</td>\n",
       "    </tr>\n",
       "    <tr>\n",
       "      <th>Armenia</th>\n",
       "      <td>1.4700</td>\n",
       "      <td>0.729</td>\n",
       "      <td>134.0</td>\n",
       "    </tr>\n",
       "    <tr>\n",
       "      <th>Australia</th>\n",
       "      <td>17.7000</td>\n",
       "      <td>0.927</td>\n",
       "      <td>4780.0</td>\n",
       "    </tr>\n",
       "    <tr>\n",
       "      <th>Austria</th>\n",
       "      <td>8.0300</td>\n",
       "      <td>0.880</td>\n",
       "      <td>4960.0</td>\n",
       "    </tr>\n",
       "    <tr>\n",
       "      <th>Azerbaijan</th>\n",
       "      <td>3.4000</td>\n",
       "      <td>0.741</td>\n",
       "      <td>332.0</td>\n",
       "    </tr>\n",
       "    <tr>\n",
       "      <th>Bahamas</th>\n",
       "      <td>4.5800</td>\n",
       "      <td>0.788</td>\n",
       "      <td>1740.0</td>\n",
       "    </tr>\n",
       "    <tr>\n",
       "      <th>Bahrain</th>\n",
       "      <td>23.6000</td>\n",
       "      <td>0.812</td>\n",
       "      <td>864.0</td>\n",
       "    </tr>\n",
       "    <tr>\n",
       "      <th>Barbados</th>\n",
       "      <td>5.2900</td>\n",
       "      <td>0.780</td>\n",
       "      <td>1000.0</td>\n",
       "    </tr>\n",
       "    <tr>\n",
       "      <th>Belarus</th>\n",
       "      <td>6.6500</td>\n",
       "      <td>0.787</td>\n",
       "      <td>320.0</td>\n",
       "    </tr>\n",
       "    <tr>\n",
       "      <th>Belgium</th>\n",
       "      <td>10.1000</td>\n",
       "      <td>0.884</td>\n",
       "      <td>4620.0</td>\n",
       "    </tr>\n",
       "    <tr>\n",
       "      <th>Belize</th>\n",
       "      <td>1.6800</td>\n",
       "      <td>0.700</td>\n",
       "      <td>239.0</td>\n",
       "    </tr>\n",
       "    <tr>\n",
       "      <th>Benin</th>\n",
       "      <td>0.5530</td>\n",
       "      <td>0.454</td>\n",
       "      <td>31.0</td>\n",
       "    </tr>\n",
       "    <tr>\n",
       "      <th>Bhutan</th>\n",
       "      <td>0.6700</td>\n",
       "      <td>0.572</td>\n",
       "      <td>109.0</td>\n",
       "    </tr>\n",
       "    <tr>\n",
       "      <th>Bolivia</th>\n",
       "      <td>1.5300</td>\n",
       "      <td>0.649</td>\n",
       "      <td>96.5</td>\n",
       "    </tr>\n",
       "    <tr>\n",
       "      <th>Bosnia and Herzegovina</th>\n",
       "      <td>5.7200</td>\n",
       "      <td>0.711</td>\n",
       "      <td>499.0</td>\n",
       "    </tr>\n",
       "    <tr>\n",
       "      <th>Botswana</th>\n",
       "      <td>2.3300</td>\n",
       "      <td>0.678</td>\n",
       "      <td>615.0</td>\n",
       "    </tr>\n",
       "    <tr>\n",
       "      <th>Brazil</th>\n",
       "      <td>2.1300</td>\n",
       "      <td>0.724</td>\n",
       "      <td>990.0</td>\n",
       "    </tr>\n",
       "    <tr>\n",
       "      <th>Brunei</th>\n",
       "      <td>21.1000</td>\n",
       "      <td>0.846</td>\n",
       "      <td>882.0</td>\n",
       "    </tr>\n",
       "    <tr>\n",
       "      <th>Bulgaria</th>\n",
       "      <td>5.9600</td>\n",
       "      <td>0.775</td>\n",
       "      <td>435.0</td>\n",
       "    </tr>\n",
       "    <tr>\n",
       "      <th>Burkina Faso</th>\n",
       "      <td>0.1260</td>\n",
       "      <td>0.377</td>\n",
       "      <td>39.8</td>\n",
       "    </tr>\n",
       "    <tr>\n",
       "      <th>Burundi</th>\n",
       "      <td>0.0243</td>\n",
       "      <td>0.385</td>\n",
       "      <td>20.7</td>\n",
       "    </tr>\n",
       "    <tr>\n",
       "      <th>Cambodia</th>\n",
       "      <td>0.3500</td>\n",
       "      <td>0.533</td>\n",
       "      <td>45.2</td>\n",
       "    </tr>\n",
       "    <tr>\n",
       "      <th>Cameroon</th>\n",
       "      <td>0.3400</td>\n",
       "      <td>0.486</td>\n",
       "      <td>61.3</td>\n",
       "    </tr>\n",
       "    <tr>\n",
       "      <th>Canada</th>\n",
       "      <td>15.6000</td>\n",
       "      <td>0.903</td>\n",
       "      <td>5220.0</td>\n",
       "    </tr>\n",
       "    <tr>\n",
       "      <th>...</th>\n",
       "      <td>...</td>\n",
       "      <td>...</td>\n",
       "      <td>...</td>\n",
       "    </tr>\n",
       "    <tr>\n",
       "      <th>St. Lucia</th>\n",
       "      <td>2.3400</td>\n",
       "      <td>0.733</td>\n",
       "      <td>465.0</td>\n",
       "    </tr>\n",
       "    <tr>\n",
       "      <th>St. Vincent and the Grenadines</th>\n",
       "      <td>2.0100</td>\n",
       "      <td>0.712</td>\n",
       "      <td>278.0</td>\n",
       "    </tr>\n",
       "    <tr>\n",
       "      <th>Sudan</th>\n",
       "      <td>0.4640</td>\n",
       "      <td>0.463</td>\n",
       "      <td>83.9</td>\n",
       "    </tr>\n",
       "    <tr>\n",
       "      <th>Suriname</th>\n",
       "      <td>4.5700</td>\n",
       "      <td>0.704</td>\n",
       "      <td>492.0</td>\n",
       "    </tr>\n",
       "    <tr>\n",
       "      <th>Swaziland</th>\n",
       "      <td>0.8630</td>\n",
       "      <td>0.526</td>\n",
       "      <td>203.0</td>\n",
       "    </tr>\n",
       "    <tr>\n",
       "      <th>Sweden</th>\n",
       "      <td>5.5400</td>\n",
       "      <td>0.901</td>\n",
       "      <td>4710.0</td>\n",
       "    </tr>\n",
       "    <tr>\n",
       "      <th>Switzerland</th>\n",
       "      <td>4.9800</td>\n",
       "      <td>0.932</td>\n",
       "      <td>7810.0</td>\n",
       "    </tr>\n",
       "    <tr>\n",
       "      <th>Syria</th>\n",
       "      <td>2.9300</td>\n",
       "      <td>0.646</td>\n",
       "      <td>96.6</td>\n",
       "    </tr>\n",
       "    <tr>\n",
       "      <th>Tajikistan</th>\n",
       "      <td>0.3330</td>\n",
       "      <td>0.608</td>\n",
       "      <td>49.1</td>\n",
       "    </tr>\n",
       "    <tr>\n",
       "      <th>Tanzania</th>\n",
       "      <td>0.1540</td>\n",
       "      <td>0.498</td>\n",
       "      <td>30.9</td>\n",
       "    </tr>\n",
       "    <tr>\n",
       "      <th>Thailand</th>\n",
       "      <td>4.1900</td>\n",
       "      <td>0.720</td>\n",
       "      <td>179.0</td>\n",
       "    </tr>\n",
       "    <tr>\n",
       "      <th>Timor-Leste</th>\n",
       "      <td>0.2120</td>\n",
       "      <td>0.607</td>\n",
       "      <td>56.9</td>\n",
       "    </tr>\n",
       "    <tr>\n",
       "      <th>Togo</th>\n",
       "      <td>0.4060</td>\n",
       "      <td>0.457</td>\n",
       "      <td>40.6</td>\n",
       "    </tr>\n",
       "    <tr>\n",
       "      <th>Tonga</th>\n",
       "      <td>1.1300</td>\n",
       "      <td>0.712</td>\n",
       "      <td>172.0</td>\n",
       "    </tr>\n",
       "    <tr>\n",
       "      <th>Trinidad and Tobago</th>\n",
       "      <td>36.1000</td>\n",
       "      <td>0.774</td>\n",
       "      <td>861.0</td>\n",
       "    </tr>\n",
       "    <tr>\n",
       "      <th>Tunisia</th>\n",
       "      <td>2.6000</td>\n",
       "      <td>0.714</td>\n",
       "      <td>238.0</td>\n",
       "    </tr>\n",
       "    <tr>\n",
       "      <th>Turkey</th>\n",
       "      <td>4.1200</td>\n",
       "      <td>0.737</td>\n",
       "      <td>678.0</td>\n",
       "    </tr>\n",
       "    <tr>\n",
       "      <th>Turkmenistan</th>\n",
       "      <td>11.3000</td>\n",
       "      <td>0.665</td>\n",
       "      <td>106.0</td>\n",
       "    </tr>\n",
       "    <tr>\n",
       "      <th>Uganda</th>\n",
       "      <td>0.1160</td>\n",
       "      <td>0.477</td>\n",
       "      <td>46.7</td>\n",
       "    </tr>\n",
       "    <tr>\n",
       "      <th>Ukraine</th>\n",
       "      <td>6.6500</td>\n",
       "      <td>0.734</td>\n",
       "      <td>234.0</td>\n",
       "    </tr>\n",
       "    <tr>\n",
       "      <th>United Arab Emirates</th>\n",
       "      <td>19.4000</td>\n",
       "      <td>0.824</td>\n",
       "      <td>1450.0</td>\n",
       "    </tr>\n",
       "    <tr>\n",
       "      <th>United Kingdom</th>\n",
       "      <td>7.7900</td>\n",
       "      <td>0.902</td>\n",
       "      <td>3500.0</td>\n",
       "    </tr>\n",
       "    <tr>\n",
       "      <th>United States</th>\n",
       "      <td>17.5000</td>\n",
       "      <td>0.910</td>\n",
       "      <td>8360.0</td>\n",
       "    </tr>\n",
       "    <tr>\n",
       "      <th>Uruguay</th>\n",
       "      <td>1.8900</td>\n",
       "      <td>0.780</td>\n",
       "      <td>998.0</td>\n",
       "    </tr>\n",
       "    <tr>\n",
       "      <th>Uzbekistan</th>\n",
       "      <td>3.6400</td>\n",
       "      <td>0.664</td>\n",
       "      <td>82.4</td>\n",
       "    </tr>\n",
       "    <tr>\n",
       "      <th>Vanuatu</th>\n",
       "      <td>0.5120</td>\n",
       "      <td>0.591</td>\n",
       "      <td>157.0</td>\n",
       "    </tr>\n",
       "    <tr>\n",
       "      <th>Venezuela</th>\n",
       "      <td>6.5100</td>\n",
       "      <td>0.756</td>\n",
       "      <td>663.0</td>\n",
       "    </tr>\n",
       "    <tr>\n",
       "      <th>Vietnam</th>\n",
       "      <td>1.6100</td>\n",
       "      <td>0.655</td>\n",
       "      <td>82.9</td>\n",
       "    </tr>\n",
       "    <tr>\n",
       "      <th>Yemen</th>\n",
       "      <td>0.9930</td>\n",
       "      <td>0.493</td>\n",
       "      <td>63.2</td>\n",
       "    </tr>\n",
       "    <tr>\n",
       "      <th>Zambia</th>\n",
       "      <td>0.1940</td>\n",
       "      <td>0.543</td>\n",
       "      <td>72.9</td>\n",
       "    </tr>\n",
       "  </tbody>\n",
       "</table>\n",
       "<p>178 rows × 3 columns</p>\n",
       "</div>"
      ],
      "text/plain": [
       "                                2010_co2  2010_hdi  2010_health\n",
       "Afghanistan                       0.2940     0.454         37.7\n",
       "Albania                           1.5600     0.738        241.0\n",
       "Algeria                           3.3000     0.724        178.0\n",
       "Andorra                           6.1200     0.819       3100.0\n",
       "Angola                            1.2400     0.495        123.0\n",
       "Antigua and Barbuda               5.5400     0.782        690.0\n",
       "Argentina                         4.5600     0.816        742.0\n",
       "Armenia                           1.4700     0.729        134.0\n",
       "Australia                        17.7000     0.927       4780.0\n",
       "Austria                           8.0300     0.880       4960.0\n",
       "Azerbaijan                        3.4000     0.741        332.0\n",
       "Bahamas                           4.5800     0.788       1740.0\n",
       "Bahrain                          23.6000     0.812        864.0\n",
       "Barbados                          5.2900     0.780       1000.0\n",
       "Belarus                           6.6500     0.787        320.0\n",
       "Belgium                          10.1000     0.884       4620.0\n",
       "Belize                            1.6800     0.700        239.0\n",
       "Benin                             0.5530     0.454         31.0\n",
       "Bhutan                            0.6700     0.572        109.0\n",
       "Bolivia                           1.5300     0.649         96.5\n",
       "Bosnia and Herzegovina            5.7200     0.711        499.0\n",
       "Botswana                          2.3300     0.678        615.0\n",
       "Brazil                            2.1300     0.724        990.0\n",
       "Brunei                           21.1000     0.846        882.0\n",
       "Bulgaria                          5.9600     0.775        435.0\n",
       "Burkina Faso                      0.1260     0.377         39.8\n",
       "Burundi                           0.0243     0.385         20.7\n",
       "Cambodia                          0.3500     0.533         45.2\n",
       "Cameroon                          0.3400     0.486         61.3\n",
       "Canada                           15.6000     0.903       5220.0\n",
       "...                                  ...       ...          ...\n",
       "St. Lucia                         2.3400     0.733        465.0\n",
       "St. Vincent and the Grenadines    2.0100     0.712        278.0\n",
       "Sudan                             0.4640     0.463         83.9\n",
       "Suriname                          4.5700     0.704        492.0\n",
       "Swaziland                         0.8630     0.526        203.0\n",
       "Sweden                            5.5400     0.901       4710.0\n",
       "Switzerland                       4.9800     0.932       7810.0\n",
       "Syria                             2.9300     0.646         96.6\n",
       "Tajikistan                        0.3330     0.608         49.1\n",
       "Tanzania                          0.1540     0.498         30.9\n",
       "Thailand                          4.1900     0.720        179.0\n",
       "Timor-Leste                       0.2120     0.607         56.9\n",
       "Togo                              0.4060     0.457         40.6\n",
       "Tonga                             1.1300     0.712        172.0\n",
       "Trinidad and Tobago              36.1000     0.774        861.0\n",
       "Tunisia                           2.6000     0.714        238.0\n",
       "Turkey                            4.1200     0.737        678.0\n",
       "Turkmenistan                     11.3000     0.665        106.0\n",
       "Uganda                            0.1160     0.477         46.7\n",
       "Ukraine                           6.6500     0.734        234.0\n",
       "United Arab Emirates             19.4000     0.824       1450.0\n",
       "United Kingdom                    7.7900     0.902       3500.0\n",
       "United States                    17.5000     0.910       8360.0\n",
       "Uruguay                           1.8900     0.780        998.0\n",
       "Uzbekistan                        3.6400     0.664         82.4\n",
       "Vanuatu                           0.5120     0.591        157.0\n",
       "Venezuela                         6.5100     0.756        663.0\n",
       "Vietnam                           1.6100     0.655         82.9\n",
       "Yemen                             0.9930     0.493         63.2\n",
       "Zambia                            0.1940     0.543         72.9\n",
       "\n",
       "[178 rows x 3 columns]"
      ]
     },
     "execution_count": 171,
     "metadata": {},
     "output_type": "execute_result"
    }
   ],
   "source": [
    "co2_hdi = co2_idx.join(hdi_idx, how='inner', lsuffix='_co2', rsuffix='_hdi')\n",
    "co2_hdi_health = co2_hdi.join(health_idx, how=\"inner\")\n",
    "co2_hdi_health.rename(index=str, columns={\"2010\": \"2010_health\"})\n",
    "co2_hdi_health['2010_health'] = co2_hdi_health.pop(2010)\n",
    "co2_hdi_health = co2_hdi_health.dropna()\n",
    "co2_hdi_health\n"
   ]
  },
  {
   "cell_type": "markdown",
   "metadata": {},
   "source": [
    "## Resultados de 2010"
   ]
  },
  {
   "cell_type": "markdown",
   "metadata": {},
   "source": [
    "#### Gráfico do IDH em função da Emissão de CO2 em 2010"
   ]
  },
  {
   "cell_type": "code",
   "execution_count": 172,
   "metadata": {},
   "outputs": [
    {
     "name": "stdout",
     "output_type": "stream",
     "text": [
      "Ajuste linear entre IDH e Emissão de CO2 em 2010:\n",
      "Coeficiente linear: 0.6106042490285916\n",
      "Coeficiente angular: 0.01475061924171276\n",
      "  \n",
      "Gráfico de emissão de CO2 e IDH em 2010\n"
     ]
    },
    {
     "data": {
      "image/png": "[encoded data removed]",
      "text/plain": [
       "<Figure size 432x288 with 1 Axes>"
      ]
     },
     "metadata": {},
     "output_type": "display_data"
    }
   ],
   "source": [
    "\n",
    "a, b = dispersao_com_reta(co2_hdi_health, variavel_y=\"2010_hdi\", variavel_x=\"2010_co2\")\n",
    "print('Ajuste linear entre IDH e Emissão de CO2 em 2010:')\n",
    "print('Coeficiente linear:', b)\n",
    "print('Coeficiente angular:', a)\n",
    "print('  ')\n",
    "print('Gráfico de emissão de CO2 e IDH em 2010')"
   ]
  },
  {
   "cell_type": "markdown",
   "metadata": {},
   "source": [
    "#### Gráfico do IDH em função da Emissão de CO2 em log em 2010"
   ]
  },
  {
   "cell_type": "code",
   "execution_count": 173,
   "metadata": {},
   "outputs": [
    {
     "name": "stdout",
     "output_type": "stream",
     "text": [
      "Ajuste linear entre IDH e Emissão de CO2 em 2010:\n",
      "Coeficiente linear: 0.624207388941704\n",
      "Coeficiente angular: 0.08754441313951107\n",
      "  \n",
      "Gráfico de emissão de CO2 em log e IDH em 2010\n"
     ]
    },
    {
     "data": {
      "image/png": "[encoded data removed]",
      "text/plain": [
       "<Figure size 432x288 with 1 Axes>"
      ]
     },
     "metadata": {},
     "output_type": "display_data"
    }
   ],
   "source": [
    "co2_hdi_health[\"log_2010_co2\"] = np.log(co2_hdi_health[\"2010_co2\"])\n",
    "a, b = dispersao_com_reta(co2_hdi_health, variavel_y=\"2010_hdi\", variavel_x=\"log_2010_co2\")\n",
    "print('Ajuste linear entre IDH e Emissão de CO2 em 2010:')\n",
    "print('Coeficiente linear:', b)\n",
    "print('Coeficiente angular:', a)\n",
    "print('  ')\n",
    "print('Gráfico de emissão de CO2 em log e IDH em 2010')"
   ]
  },
  {
   "cell_type": "markdown",
   "metadata": {},
   "source": [
    "#### Gráfico do IDH em função do Gasto com saúde em 2010"
   ]
  },
  {
   "cell_type": "code",
   "execution_count": 174,
   "metadata": {},
   "outputs": [
    {
     "name": "stdout",
     "output_type": "stream",
     "text": [
      "Ajuste linear entre IDH e Gasto com saúde em 2010:\n",
      "Coeficiente linear: 0.6225790838445686\n",
      "Coeficiente angular: 5.973893046784948e-05\n",
      "  \n",
      "Gráfico Gasto com saúde e IDH em 2010\n"
     ]
    },
    {
     "data": {
      "image/png": "[encoded data removed]",
      "text/plain": [
       "<Figure size 432x288 with 1 Axes>"
      ]
     },
     "metadata": {},
     "output_type": "display_data"
    }
   ],
   "source": [
    "\n",
    "a, b = dispersao_com_reta(co2_hdi_health, variavel_y=\"2010_hdi\", variavel_x=\"2010_health\")\n",
    "print('Ajuste linear entre IDH e Gasto com saúde em 2010:')\n",
    "print('Coeficiente linear:', b)\n",
    "print('Coeficiente angular:', a)\n",
    "print('  ')\n",
    "print('Gráfico Gasto com saúde e IDH em 2010')"
   ]
  },
  {
   "cell_type": "markdown",
   "metadata": {},
   "source": [
    "#### Gráfico do IDH em função do Gasto com saúde em log em 2010"
   ]
  },
  {
   "cell_type": "code",
   "execution_count": 175,
   "metadata": {},
   "outputs": [
    {
     "name": "stdout",
     "output_type": "stream",
     "text": [
      "Ajuste linear entre IDH e Gasto com saúde em 2010:\n",
      "Coeficiente linear: 0.18059901170012505\n",
      "Coeficiente angular: 0.08823211686678928\n",
      "  \n",
      "Gráfico Gasto com saúde em log e IDH em 2010\n"
     ]
    },
    {
     "data": {
      "image/png": "[encoded data removed]",
      "text/plain": [
       "<Figure size 432x288 with 1 Axes>"
      ]
     },
     "metadata": {},
     "output_type": "display_data"
    }
   ],
   "source": [
    "co2_hdi_health[\"log_2010_health\"] = np.log(co2_hdi_health[\"2010_health\"])\n",
    "a, b = dispersao_com_reta(co2_hdi_health, variavel_y=\"2010_hdi\", variavel_x=\"log_2010_health\")\n",
    "print('Ajuste linear entre IDH e Gasto com saúde em 2010:')\n",
    "print('Coeficiente linear:', b)\n",
    "print('Coeficiente angular:', a)\n",
    "print('  ')\n",
    "print('Gráfico Gasto com saúde em log e IDH em 2010')"
   ]
  },
  {
   "cell_type": "markdown",
   "metadata": {},
   "source": [
    "#### Gráfico de Gasto com saúde em função de Emissão de CO2"
   ]
  },
  {
   "cell_type": "code",
   "execution_count": 176,
   "metadata": {},
   "outputs": [
    {
     "name": "stdout",
     "output_type": "stream",
     "text": [
      "Ajuste linear entre Emissão de CO2 e Gasto com saúde em 2010:\n",
      "Coeficiente linear: 404.77267481061665\n",
      "Coeficiente angular: 121.76794914508788\n",
      "  \n",
      "Gráfico de emissão de CO2 em log e Gasto com saúde em log em 2010\n"
     ]
    },
    {
     "data": {
      "image/png": "[encoded data removed]",
      "text/plain": [
       "<Figure size 432x288 with 1 Axes>"
      ]
     },
     "metadata": {},
     "output_type": "display_data"
    }
   ],
   "source": [
    "a, b = dispersao_com_reta(co2_hdi_health, variavel_x=\"2010_co2\", variavel_y=\"2010_health\")\n",
    "print('Ajuste linear entre Emissão de CO2 e Gasto com saúde em 2010:')\n",
    "print('Coeficiente linear:', b)\n",
    "print('Coeficiente angular:', a)\n",
    "print('  ')\n",
    "print('Gráfico de emissão de CO2 em log e Gasto com saúde em log em 2010')"
   ]
  },
  {
   "cell_type": "markdown",
   "metadata": {},
   "source": [
    "#### Gráfico de Gasto com saúde em log em função de Emisão de CO2 em log"
   ]
  },
  {
   "cell_type": "code",
   "execution_count": 177,
   "metadata": {},
   "outputs": [
    {
     "name": "stdout",
     "output_type": "stream",
     "text": [
      "Ajuste linear entre Emissão de CO2 e Gasto com saúde em 2010:\n",
      "Coeficiente linear: 5.1083512786130685\n",
      "Coeficiente angular: 0.8699688565167061\n",
      "  \n",
      "Gráfico de emissão de CO2 em log e Gasto com saúde em log em 2010\n"
     ]
    },
    {
     "data": {
      "image/png": "[encoded data removed]",
      "text/plain": [
       "<Figure size 432x288 with 1 Axes>"
      ]
     },
     "metadata": {},
     "output_type": "display_data"
    }
   ],
   "source": [
    "a, b = dispersao_com_reta(co2_hdi_health, variavel_x=\"log_2010_co2\", variavel_y=\"log_2010_health\")\n",
    "print('Ajuste linear entre Emissão de CO2 e Gasto com saúde em 2010:')\n",
    "print('Coeficiente linear:', b)\n",
    "print('Coeficiente angular:', a)\n",
    "print('  ')\n",
    "print('Gráfico de emissão de CO2 em log e Gasto com saúde em log em 2010')"
   ]
  },
  {
   "cell_type": "markdown",
   "metadata": {},
   "source": [
    "#### Correlação entre todas variáveis em 2010"
   ]
  },
  {
   "cell_type": "code",
   "execution_count": 178,
   "metadata": {},
   "outputs": [
    {
     "data": {
      "text/html": [
       "<div>\n",
       "<style scoped>\n",
       "    .dataframe tbody tr th:only-of-type {\n",
       "        vertical-align: middle;\n",
       "    }\n",
       "\n",
       "    .dataframe tbody tr th {\n",
       "        vertical-align: top;\n",
       "    }\n",
       "\n",
       "    .dataframe thead th {\n",
       "        text-align: right;\n",
       "    }\n",
       "</style>\n",
       "<table border=\"1\" class=\"dataframe\">\n",
       "  <thead>\n",
       "    <tr style=\"text-align: right;\">\n",
       "      <th></th>\n",
       "      <th>2010_co2</th>\n",
       "      <th>2010_hdi</th>\n",
       "      <th>2010_health</th>\n",
       "      <th>log_2010_co2</th>\n",
       "      <th>log_2010_health</th>\n",
       "    </tr>\n",
       "  </thead>\n",
       "  <tbody>\n",
       "    <tr>\n",
       "      <th>2010_co2</th>\n",
       "      <td>1.000000</td>\n",
       "      <td>0.591423</td>\n",
       "      <td>0.454482</td>\n",
       "      <td>0.739996</td>\n",
       "      <td>0.599627</td>\n",
       "    </tr>\n",
       "    <tr>\n",
       "      <th>2010_hdi</th>\n",
       "      <td>0.591423</td>\n",
       "      <td>1.000000</td>\n",
       "      <td>0.641744</td>\n",
       "      <td>0.893496</td>\n",
       "      <td>0.922462</td>\n",
       "    </tr>\n",
       "    <tr>\n",
       "      <th>2010_health</th>\n",
       "      <td>0.454482</td>\n",
       "      <td>0.641744</td>\n",
       "      <td>1.000000</td>\n",
       "      <td>0.506077</td>\n",
       "      <td>0.773798</td>\n",
       "    </tr>\n",
       "    <tr>\n",
       "      <th>log_2010_co2</th>\n",
       "      <td>0.739996</td>\n",
       "      <td>0.893496</td>\n",
       "      <td>0.506077</td>\n",
       "      <td>1.000000</td>\n",
       "      <td>0.849271</td>\n",
       "    </tr>\n",
       "    <tr>\n",
       "      <th>log_2010_health</th>\n",
       "      <td>0.599627</td>\n",
       "      <td>0.922462</td>\n",
       "      <td>0.773798</td>\n",
       "      <td>0.849271</td>\n",
       "      <td>1.000000</td>\n",
       "    </tr>\n",
       "  </tbody>\n",
       "</table>\n",
       "</div>"
      ],
      "text/plain": [
       "                 2010_co2  2010_hdi  2010_health  log_2010_co2  \\\n",
       "2010_co2         1.000000  0.591423     0.454482      0.739996   \n",
       "2010_hdi         0.591423  1.000000     0.641744      0.893496   \n",
       "2010_health      0.454482  0.641744     1.000000      0.506077   \n",
       "log_2010_co2     0.739996  0.893496     0.506077      1.000000   \n",
       "log_2010_health  0.599627  0.922462     0.773798      0.849271   \n",
       "\n",
       "                 log_2010_health  \n",
       "2010_co2                0.599627  \n",
       "2010_hdi                0.922462  \n",
       "2010_health             0.773798  \n",
       "log_2010_co2            0.849271  \n",
       "log_2010_health         1.000000  "
      ]
     },
     "execution_count": 178,
     "metadata": {},
     "output_type": "execute_result"
    }
   ],
   "source": [
    "co2_hdi_health.corr()"
   ]
  },
  {
   "cell_type": "markdown",
   "metadata": {},
   "source": [
    "#### Correlação entre as variáveis HDI e emissão de CO2 em 2010"
   ]
  },
  {
   "cell_type": "code",
   "execution_count": 179,
   "metadata": {},
   "outputs": [
    {
     "data": {
      "text/html": [
       "<div>\n",
       "<style scoped>\n",
       "    .dataframe tbody tr th:only-of-type {\n",
       "        vertical-align: middle;\n",
       "    }\n",
       "\n",
       "    .dataframe tbody tr th {\n",
       "        vertical-align: top;\n",
       "    }\n",
       "\n",
       "    .dataframe thead th {\n",
       "        text-align: right;\n",
       "    }\n",
       "</style>\n",
       "<table border=\"1\" class=\"dataframe\">\n",
       "  <thead>\n",
       "    <tr style=\"text-align: right;\">\n",
       "      <th></th>\n",
       "      <th>2010_hdi</th>\n",
       "      <th>log_2010_co2</th>\n",
       "    </tr>\n",
       "  </thead>\n",
       "  <tbody>\n",
       "    <tr>\n",
       "      <th>2010_hdi</th>\n",
       "      <td>1.000000</td>\n",
       "      <td>0.893496</td>\n",
       "    </tr>\n",
       "    <tr>\n",
       "      <th>log_2010_co2</th>\n",
       "      <td>0.893496</td>\n",
       "      <td>1.000000</td>\n",
       "    </tr>\n",
       "  </tbody>\n",
       "</table>\n",
       "</div>"
      ],
      "text/plain": [
       "              2010_hdi  log_2010_co2\n",
       "2010_hdi      1.000000      0.893496\n",
       "log_2010_co2  0.893496      1.000000"
      ]
     },
     "execution_count": 179,
     "metadata": {},
     "output_type": "execute_result"
    }
   ],
   "source": [
    "co2_hdi_health.loc[:, [\"2010_hdi\", \"log_2010_co2\"]].corr()"
   ]
  },
  {
   "cell_type": "markdown",
   "metadata": {},
   "source": [
    "#### Correlação entre as variáveis HDI e Gasto com saúde em 2010"
   ]
  },
  {
   "cell_type": "code",
   "execution_count": 180,
   "metadata": {},
   "outputs": [
    {
     "data": {
      "text/html": [
       "<div>\n",
       "<style scoped>\n",
       "    .dataframe tbody tr th:only-of-type {\n",
       "        vertical-align: middle;\n",
       "    }\n",
       "\n",
       "    .dataframe tbody tr th {\n",
       "        vertical-align: top;\n",
       "    }\n",
       "\n",
       "    .dataframe thead th {\n",
       "        text-align: right;\n",
       "    }\n",
       "</style>\n",
       "<table border=\"1\" class=\"dataframe\">\n",
       "  <thead>\n",
       "    <tr style=\"text-align: right;\">\n",
       "      <th></th>\n",
       "      <th>2010_hdi</th>\n",
       "      <th>log_2010_health</th>\n",
       "    </tr>\n",
       "  </thead>\n",
       "  <tbody>\n",
       "    <tr>\n",
       "      <th>2010_hdi</th>\n",
       "      <td>1.000000</td>\n",
       "      <td>0.922462</td>\n",
       "    </tr>\n",
       "    <tr>\n",
       "      <th>log_2010_health</th>\n",
       "      <td>0.922462</td>\n",
       "      <td>1.000000</td>\n",
       "    </tr>\n",
       "  </tbody>\n",
       "</table>\n",
       "</div>"
      ],
      "text/plain": [
       "                 2010_hdi  log_2010_health\n",
       "2010_hdi         1.000000         0.922462\n",
       "log_2010_health  0.922462         1.000000"
      ]
     },
     "execution_count": 180,
     "metadata": {},
     "output_type": "execute_result"
    }
   ],
   "source": [
    "co2_hdi_health.loc[:, [\"2010_hdi\", \"log_2010_health\"]].corr()"
   ]
  },
  {
   "cell_type": "markdown",
   "metadata": {},
   "source": [
    "#### Correlação entre as variáveis de Emissão de CO2 e Gasto com saúde em 2010"
   ]
  },
  {
   "cell_type": "code",
   "execution_count": 181,
   "metadata": {},
   "outputs": [
    {
     "data": {
      "text/html": [
       "<div>\n",
       "<style scoped>\n",
       "    .dataframe tbody tr th:only-of-type {\n",
       "        vertical-align: middle;\n",
       "    }\n",
       "\n",
       "    .dataframe tbody tr th {\n",
       "        vertical-align: top;\n",
       "    }\n",
       "\n",
       "    .dataframe thead th {\n",
       "        text-align: right;\n",
       "    }\n",
       "</style>\n",
       "<table border=\"1\" class=\"dataframe\">\n",
       "  <thead>\n",
       "    <tr style=\"text-align: right;\">\n",
       "      <th></th>\n",
       "      <th>log_2010_co2</th>\n",
       "      <th>log_2010_health</th>\n",
       "    </tr>\n",
       "  </thead>\n",
       "  <tbody>\n",
       "    <tr>\n",
       "      <th>log_2010_co2</th>\n",
       "      <td>1.000000</td>\n",
       "      <td>0.849271</td>\n",
       "    </tr>\n",
       "    <tr>\n",
       "      <th>log_2010_health</th>\n",
       "      <td>0.849271</td>\n",
       "      <td>1.000000</td>\n",
       "    </tr>\n",
       "  </tbody>\n",
       "</table>\n",
       "</div>"
      ],
      "text/plain": [
       "                 log_2010_co2  log_2010_health\n",
       "log_2010_co2         1.000000         0.849271\n",
       "log_2010_health      0.849271         1.000000"
      ]
     },
     "execution_count": 181,
     "metadata": {},
     "output_type": "execute_result"
    }
   ],
   "source": [
    "co2_hdi_health.loc[:, [\"log_2010_co2\", \"log_2010_health\"]].corr()"
   ]
  },
  {
   "cell_type": "code",
   "execution_count": 185,
   "metadata": {},
   "outputs": [
    {
     "data": {
      "text/html": [
       "<div>\n",
       "<style scoped>\n",
       "    .dataframe tbody tr th:only-of-type {\n",
       "        vertical-align: middle;\n",
       "    }\n",
       "\n",
       "    .dataframe tbody tr th {\n",
       "        vertical-align: top;\n",
       "    }\n",
       "\n",
       "    .dataframe thead th {\n",
       "        text-align: right;\n",
       "    }\n",
       "</style>\n",
       "<table border=\"1\" class=\"dataframe\">\n",
       "  <thead>\n",
       "    <tr style=\"text-align: right;\">\n",
       "      <th></th>\n",
       "      <th>2010_co2</th>\n",
       "      <th>2010_hdi</th>\n",
       "      <th>2010_health</th>\n",
       "      <th>log_2010_co2</th>\n",
       "      <th>log_2010_health</th>\n",
       "    </tr>\n",
       "  </thead>\n",
       "  <tbody>\n",
       "    <tr>\n",
       "      <th>2010_co2</th>\n",
       "      <td>1.000000</td>\n",
       "      <td>0.591423</td>\n",
       "      <td>0.454482</td>\n",
       "      <td>0.739996</td>\n",
       "      <td>0.599627</td>\n",
       "    </tr>\n",
       "    <tr>\n",
       "      <th>2010_hdi</th>\n",
       "      <td>0.591423</td>\n",
       "      <td>1.000000</td>\n",
       "      <td>0.641744</td>\n",
       "      <td>0.893496</td>\n",
       "      <td>0.922462</td>\n",
       "    </tr>\n",
       "    <tr>\n",
       "      <th>2010_health</th>\n",
       "      <td>0.454482</td>\n",
       "      <td>0.641744</td>\n",
       "      <td>1.000000</td>\n",
       "      <td>0.506077</td>\n",
       "      <td>0.773798</td>\n",
       "    </tr>\n",
       "    <tr>\n",
       "      <th>log_2010_co2</th>\n",
       "      <td>0.739996</td>\n",
       "      <td>0.893496</td>\n",
       "      <td>0.506077</td>\n",
       "      <td>1.000000</td>\n",
       "      <td>0.849271</td>\n",
       "    </tr>\n",
       "    <tr>\n",
       "      <th>log_2010_health</th>\n",
       "      <td>0.599627</td>\n",
       "      <td>0.922462</td>\n",
       "      <td>0.773798</td>\n",
       "      <td>0.849271</td>\n",
       "      <td>1.000000</td>\n",
       "    </tr>\n",
       "  </tbody>\n",
       "</table>\n",
       "</div>"
      ],
      "text/plain": [
       "                 2010_co2  2010_hdi  2010_health  log_2010_co2  \\\n",
       "2010_co2         1.000000  0.591423     0.454482      0.739996   \n",
       "2010_hdi         0.591423  1.000000     0.641744      0.893496   \n",
       "2010_health      0.454482  0.641744     1.000000      0.506077   \n",
       "log_2010_co2     0.739996  0.893496     0.506077      1.000000   \n",
       "log_2010_health  0.599627  0.922462     0.773798      0.849271   \n",
       "\n",
       "                 log_2010_health  \n",
       "2010_co2                0.599627  \n",
       "2010_hdi                0.922462  \n",
       "2010_health             0.773798  \n",
       "log_2010_co2            0.849271  \n",
       "log_2010_health         1.000000  "
      ]
     },
     "execution_count": 185,
     "metadata": {},
     "output_type": "execute_result"
    }
   ],
   "source": [
    "co2_hdi_health.corr()\n"
   ]
  },
  {
   "cell_type": "code",
   "execution_count": 186,
   "metadata": {},
   "outputs": [
    {
     "data": {
      "text/html": [
       "<div>\n",
       "<style scoped>\n",
       "    .dataframe tbody tr th:only-of-type {\n",
       "        vertical-align: middle;\n",
       "    }\n",
       "\n",
       "    .dataframe tbody tr th {\n",
       "        vertical-align: top;\n",
       "    }\n",
       "\n",
       "    .dataframe thead th {\n",
       "        text-align: right;\n",
       "    }\n",
       "</style>\n",
       "<table border=\"1\" class=\"dataframe\">\n",
       "  <thead>\n",
       "    <tr style=\"text-align: right;\">\n",
       "      <th></th>\n",
       "      <th>2004_co2</th>\n",
       "      <th>2004_hdi</th>\n",
       "      <th>2004_health</th>\n",
       "      <th>log_2004_co2</th>\n",
       "      <th>log_2004_health</th>\n",
       "    </tr>\n",
       "  </thead>\n",
       "  <tbody>\n",
       "    <tr>\n",
       "      <th>2004_co2</th>\n",
       "      <td>1.000000</td>\n",
       "      <td>0.585779</td>\n",
       "      <td>0.482227</td>\n",
       "      <td>0.711197</td>\n",
       "      <td>0.614735</td>\n",
       "    </tr>\n",
       "    <tr>\n",
       "      <th>2004_hdi</th>\n",
       "      <td>0.585779</td>\n",
       "      <td>1.000000</td>\n",
       "      <td>0.629795</td>\n",
       "      <td>0.903060</td>\n",
       "      <td>0.908474</td>\n",
       "    </tr>\n",
       "    <tr>\n",
       "      <th>2004_health</th>\n",
       "      <td>0.482227</td>\n",
       "      <td>0.629795</td>\n",
       "      <td>1.000000</td>\n",
       "      <td>0.509459</td>\n",
       "      <td>0.779093</td>\n",
       "    </tr>\n",
       "    <tr>\n",
       "      <th>log_2004_co2</th>\n",
       "      <td>0.711197</td>\n",
       "      <td>0.903060</td>\n",
       "      <td>0.509459</td>\n",
       "      <td>1.000000</td>\n",
       "      <td>0.838776</td>\n",
       "    </tr>\n",
       "    <tr>\n",
       "      <th>log_2004_health</th>\n",
       "      <td>0.614735</td>\n",
       "      <td>0.908474</td>\n",
       "      <td>0.779093</td>\n",
       "      <td>0.838776</td>\n",
       "      <td>1.000000</td>\n",
       "    </tr>\n",
       "  </tbody>\n",
       "</table>\n",
       "</div>"
      ],
      "text/plain": [
       "                 2004_co2  2004_hdi  2004_health  log_2004_co2  \\\n",
       "2004_co2         1.000000  0.585779     0.482227      0.711197   \n",
       "2004_hdi         0.585779  1.000000     0.629795      0.903060   \n",
       "2004_health      0.482227  0.629795     1.000000      0.509459   \n",
       "log_2004_co2     0.711197  0.903060     0.509459      1.000000   \n",
       "log_2004_health  0.614735  0.908474     0.779093      0.838776   \n",
       "\n",
       "                 log_2004_health  \n",
       "2004_co2                0.614735  \n",
       "2004_hdi                0.908474  \n",
       "2004_health             0.779093  \n",
       "log_2004_co2            0.838776  \n",
       "log_2004_health         1.000000  "
      ]
     },
     "execution_count": 186,
     "metadata": {},
     "output_type": "execute_result"
    }
   ],
   "source": [
    "co2_hdi_health_2004.corr()"
   ]
  },
  {
   "cell_type": "markdown",
   "metadata": {},
   "source": [
    "## Conclusão"
   ]
  },
  {
   "cell_type": "markdown",
   "metadata": {},
   "source": [
    "&emsp; Os gráficos foram gerados e demonstraram um comportamento diferente de uma reta linear. Dessa forma, foi feito uma manipulação para que apresentasse em escala logarítmica, o que resultou em uma maior exibição da correlação entre as variáveis.\n",
    "&emsp;\n",
    "\n",
    "&emsp; Primeiramente foi gerado a relação entre o IDH e a emissão de CO2 em log, que revelou uma grande relação e tendência positiva. Assim, quanto maior a emissão de CO2, maior o IDH, que pode acontecer por conta da exalação do gás que significa uma grande industrialização, levando a uma produção interna no país em larga escala, aumentando o IDH. Por outro lado, com o Índice de Desenvolvimento Humano aumentando, há uma maior possibilidade de haver desenvolvimento tecnológico e industrial, possibilitando o uso de indústrias e grandes quantidades de carros. A correlação foi gerada, comprovando o vínculo, ficando com 0.893496.\n",
    "&emsp;\n",
    "\n",
    "&emsp; Em seguida, foi feito o gráfico entre o gasto com saúde por pessoa e o IDH, que também houve uma grande correspodência e uma correlação de 0.922462. A conclusão para este poderia significar que com um maior gasto de saúde com pessoas há uma maior expectativa de vida, elevando o IDH, porém também poderia nos informar que quanto maior o Índice Humano, há uma maior possibilidade de investimento para as pessoas.\n",
    "&emsp;\n",
    "\n",
    "&emsp; Por fim, foi gerado o gráfico entre a emissão de CO2 e o gasto com saúde, que demonstrou uma resposta positiva com uma correlação de 0.849271. O caso pode significar uma indicação a hipótese, de que quanto maior a exalação de dióxido de carbono, maior os males causados à natureza e seres vivos, levando à um maior gasto com saúde. Por outro lado, poderia haver uma maior demanda por remédios e outros métodos medicinais que gerariam uma grande produção e dessa forma grande emissão do CO2.\n",
    "&emsp;\n",
    "\n",
    "&emsp; Os dados foram comparados entre os anos de 2010 e 2004, uma diferença de 6 anos para verificar se houve alguma mudança para verificar uma possível refutação. Os resultados mostraram uma divergência insignificante, representadas pelas correlações, variando apenas em torno de 0.02.\n",
    "\n",
    "&emsp; Concluímos que as variáveis tem uma direta relação entre si em escala logarítmica e que a hipótese pode estar correta. Para isso, futuramente seria necessário verificar se o desenvolvimento tecnológico tem alguma relação com o IDH para entender a relação com emissão de CO2, se é a causa do aumento do índice ou uma consequência. Também a opção de analisar se maior o IDH de um país, significaria uma possibilidade de investimento para a população, e se isso seria uma tendência entre os países. Por fim analisar as tendências de cada países, como os costumes e culturas, afim de compreender os usos das medicações pelas pessoas, se são movidas pela emissão de CO2 ou é apenas um padrão local."
   ]
  }
 ],
 "metadata": {
  "kernelspec": {
   "display_name": "Python 3",
   "language": "python",
   "name": "python3"
  },
  "language_info": {
   "codemirror_mode": {
    "name": "ipython",
    "version": 3
   },
   "file_extension": ".py",
   "mimetype": "text/x-python",
   "name": "python",
   "nbconvert_exporter": "python",
   "pygments_lexer": "ipython3",
   "version": "3.6.5"
  }
 },
 "nbformat": 4,
 "nbformat_minor": 2
}
